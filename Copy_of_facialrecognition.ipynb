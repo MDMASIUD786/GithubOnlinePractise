{
  "nbformat": 4,
  "nbformat_minor": 0,
  "metadata": {
    "colab": {
      "name": "Copy of facialrecognition.ipynb",
      "provenance": [],
      "collapsed_sections": [],
      "mount_file_id": "1xyWvD9hUzbAM2sFc1Dfgn9LnStiesKwE",
      "authorship_tag": "ABX9TyOE1Q/W9JcmBSuApZMyhjRs",
      "include_colab_link": true
    },
    "kernelspec": {
      "name": "python3",
      "display_name": "Python 3"
    },
    "language_info": {
      "name": "python"
    },
    "accelerator": "GPU"
  },
  "cells": [
    {
      "cell_type": "markdown",
      "metadata": {
        "id": "view-in-github",
        "colab_type": "text"
      },
      "source": [
        "<a href=\"https://colab.research.google.com/github/MDMASIUD786/GithubOnlinePractise/blob/main/Copy_of_facialrecognition.ipynb\" target=\"_parent\"><img src=\"https://colab.research.google.com/assets/colab-badge.svg\" alt=\"Open In Colab\"/></a>"
      ]
    },
    {
      "cell_type": "code",
      "metadata": {
        "colab": {
          "base_uri": "https://localhost:8080/"
        },
        "id": "-7_G_eLj0PH8",
        "outputId": "01a0e911-639d-4b0f-c43b-65e6f9dcf967"
      },
      "source": [
        "!git clone https://github.com/muxspace/facial_expressions.git\n"
      ],
      "execution_count": null,
      "outputs": [
        {
          "output_type": "stream",
          "name": "stdout",
          "text": [
            "Cloning into 'facial_expressions'...\n",
            "remote: Enumerating objects: 14214, done.\u001b[K\n",
            "remote: Total 14214 (delta 0), reused 0 (delta 0), pack-reused 14214\u001b[K\n",
            "Receiving objects: 100% (14214/14214), 239.65 MiB | 28.98 MiB/s, done.\n",
            "Resolving deltas: 100% (223/223), done.\n",
            "Checking out files: 100% (13996/13996), done.\n"
          ]
        }
      ]
    },
    {
      "cell_type": "code",
      "metadata": {
        "id": "Uv4iFb5d26tP"
      },
      "source": [
        "import csv\n",
        "data={}\n",
        "with open('/content/facial_expressions/data/legend.csv') as f:\n",
        "  reader=csv.reader(f)\n",
        "  next(reader)\n",
        "  for row in reader:\n",
        "      key=row[2]\n",
        "      if key in data:\n",
        "        data[key].append(row[1])\n",
        "      else:\n",
        "        data[key]=[row[1]]"
      ],
      "execution_count": 4,
      "outputs": []
    },
    {
      "cell_type": "code",
      "metadata": {
        "colab": {
          "base_uri": "https://localhost:8080/"
        },
        "id": "Bm_jly4G4kgv",
        "outputId": "b08cd767-975b-45ca-88a3-87cb7ed73907"
      },
      "source": [
        "emotion_list=list(data.keys())\n",
        "emotion_list"
      ],
      "execution_count": 34,
      "outputs": [
        {
          "output_type": "execute_result",
          "data": {
            "text/plain": [
              "['anger',\n",
              " 'surprise',\n",
              " 'disgust',\n",
              " 'fear',\n",
              " 'neutral',\n",
              " 'happiness',\n",
              " 'sadness',\n",
              " 'contempt',\n",
              " 'NEUTRAL',\n",
              " 'SADNESS',\n",
              " 'DISGUST',\n",
              " 'FEAR',\n",
              " 'SURPRISE',\n",
              " 'ANGER',\n",
              " 'HAPPINESS']"
            ]
          },
          "metadata": {},
          "execution_count": 34
        }
      ]
    },
    {
      "cell_type": "code",
      "metadata": {
        "id": "5kD7FryxDSbl",
        "colab": {
          "base_uri": "https://localhost:8080/",
          "height": 229
        },
        "outputId": "399c9767-88fa-4b78-e60c-005080165cec"
      },
      "source": [
        "\n",
        "import os\n",
        "os.mkdir('master_data')\n",
        "os.mkdir('master_data/training')\n",
        "os.mkdir('master_data/testing')\n",
        "for emotion in emotion_list:\n",
        "  os.mkdir(os.path.join('master_data/training/',emotion))\n",
        "  os.mkdir(os.path.join('master_data/testing/',emotion))\n",
        "\n"
      ],
      "execution_count": 35,
      "outputs": [
        {
          "output_type": "error",
          "ename": "FileExistsError",
          "evalue": "ignored",
          "traceback": [
            "\u001b[0;31m---------------------------------------------------------------------------\u001b[0m",
            "\u001b[0;31mFileExistsError\u001b[0m                           Traceback (most recent call last)",
            "\u001b[0;32m<ipython-input-35-f012f1399bad>\u001b[0m in \u001b[0;36m<module>\u001b[0;34m()\u001b[0m\n\u001b[1;32m      1\u001b[0m \u001b[0;34m\u001b[0m\u001b[0m\n\u001b[1;32m      2\u001b[0m \u001b[0;32mimport\u001b[0m \u001b[0mos\u001b[0m\u001b[0;34m\u001b[0m\u001b[0;34m\u001b[0m\u001b[0m\n\u001b[0;32m----> 3\u001b[0;31m \u001b[0mos\u001b[0m\u001b[0;34m.\u001b[0m\u001b[0mmkdir\u001b[0m\u001b[0;34m(\u001b[0m\u001b[0;34m'master_data'\u001b[0m\u001b[0;34m)\u001b[0m\u001b[0;34m\u001b[0m\u001b[0;34m\u001b[0m\u001b[0m\n\u001b[0m\u001b[1;32m      4\u001b[0m \u001b[0mos\u001b[0m\u001b[0;34m.\u001b[0m\u001b[0mmkdir\u001b[0m\u001b[0;34m(\u001b[0m\u001b[0;34m'master_data/training'\u001b[0m\u001b[0;34m)\u001b[0m\u001b[0;34m\u001b[0m\u001b[0;34m\u001b[0m\u001b[0m\n\u001b[1;32m      5\u001b[0m \u001b[0mos\u001b[0m\u001b[0;34m.\u001b[0m\u001b[0mmkdir\u001b[0m\u001b[0;34m(\u001b[0m\u001b[0;34m'master_data/testing'\u001b[0m\u001b[0;34m)\u001b[0m\u001b[0;34m\u001b[0m\u001b[0;34m\u001b[0m\u001b[0m\n",
            "\u001b[0;31mFileExistsError\u001b[0m: [Errno 17] File exists: 'master_data'"
          ]
        }
      ]
    },
    {
      "cell_type": "code",
      "metadata": {
        "id": "T4tl2dy-D26F"
      },
      "source": [
        "from shutil import copyfile\n",
        "split_size=0.8\n",
        "\n",
        "for emotion,images in data.items():\n",
        "  train_size=int(split_size*len(images))\n",
        "  train_images=images[:train_size]\n",
        "  test_images=images[train_size:]\n",
        "\n",
        "  for image in train_images:\n",
        "    source=os.path.join('/content/facial_expressions/images',image)\n",
        "    dest=os.path.join('/content/master_data/training',emotion,image)\n",
        "    copyfile(source,dest)\n",
        "  for image in test_images:\n",
        "    source=os.path.join('/content/facial_expressions/images',image)\n",
        "    dest=os.path.join('/content/master_data/testing',emotion,image)\n",
        "    copyfile(source,dest)\n"
      ],
      "execution_count": 36,
      "outputs": []
    },
    {
      "cell_type": "code",
      "metadata": {
        "id": "eeBOXL62D2PL"
      },
      "source": [
        "#facial_recogn -3\n",
        "import tensorflow as tf\n",
        "from tensorflow.keras.preprocessing.image import ImageDataGenerator\n",
        "\n",
        "from tensorflow.keras.optimizers import Adam\n",
        "from tensorflow.keras.callbacks import EarlyStopping\n",
        "from tensorflow.keras.layers import Conv2D,MaxPooling2D,Dense,Flatten\n"
      ],
      "execution_count": 37,
      "outputs": []
    },
    {
      "cell_type": "code",
      "metadata": {
        "colab": {
          "base_uri": "https://localhost:8080/"
        },
        "id": "ERHyP2EZWXzI",
        "outputId": "adcc1ce0-b7d6-4a79-a9df-d0e773029279"
      },
      "source": [
        "model=tf.keras.models.Sequential(\n",
        "    [\n",
        "     Conv2D(16,(3,3),activation='relu',input_shape=(100,100,3)),\n",
        "     MaxPooling2D(2,2),\n",
        "     Conv2D(32,(3,3),activation='relu'),\n",
        "     MaxPooling2D(2,2),\n",
        "     Conv2D(64,(3,3),activation='relu'),\n",
        "     MaxPooling2D(2,2),\n",
        "     Flatten(),\n",
        "     Dense(1024,activation='relu'),\n",
        "     Dense(15,activation='softmax')\n",
        "    ]\n",
        ")\n",
        "model.compile(optimizer=Adam(lr=0.01),loss='categorical_crossentropy',metrics=['acc'])\n",
        "model.summary()"
      ],
      "execution_count": 53,
      "outputs": [
        {
          "output_type": "stream",
          "name": "stdout",
          "text": [
            "Model: \"sequential_7\"\n",
            "_________________________________________________________________\n",
            "Layer (type)                 Output Shape              Param #   \n",
            "=================================================================\n",
            "conv2d_21 (Conv2D)           (None, 98, 98, 16)        448       \n",
            "_________________________________________________________________\n",
            "max_pooling2d_21 (MaxPooling (None, 49, 49, 16)        0         \n",
            "_________________________________________________________________\n",
            "conv2d_22 (Conv2D)           (None, 47, 47, 32)        4640      \n",
            "_________________________________________________________________\n",
            "max_pooling2d_22 (MaxPooling (None, 23, 23, 32)        0         \n",
            "_________________________________________________________________\n",
            "conv2d_23 (Conv2D)           (None, 21, 21, 64)        18496     \n",
            "_________________________________________________________________\n",
            "max_pooling2d_23 (MaxPooling (None, 10, 10, 64)        0         \n",
            "_________________________________________________________________\n",
            "flatten_7 (Flatten)          (None, 6400)              0         \n",
            "_________________________________________________________________\n",
            "dense_14 (Dense)             (None, 1024)              6554624   \n",
            "_________________________________________________________________\n",
            "dense_15 (Dense)             (None, 15)                15375     \n",
            "=================================================================\n",
            "Total params: 6,593,583\n",
            "Trainable params: 6,593,583\n",
            "Non-trainable params: 0\n",
            "_________________________________________________________________\n"
          ]
        },
        {
          "output_type": "stream",
          "name": "stderr",
          "text": [
            "/usr/local/lib/python3.7/dist-packages/keras/optimizer_v2/optimizer_v2.py:356: UserWarning: The `lr` argument is deprecated, use `learning_rate` instead.\n",
            "  \"The `lr` argument is deprecated, use `learning_rate` instead.\")\n"
          ]
        }
      ]
    },
    {
      "cell_type": "code",
      "metadata": {
        "colab": {
          "base_uri": "https://localhost:8080/"
        },
        "id": "Fj2q8a_ldGRI",
        "outputId": "8933cd75-d322-4c2f-c0b8-e1d7798238bd"
      },
      "source": [
        "train_dir='/content/master_data/training'\n",
        "test_dir='/content/master_data/testing'\n",
        "train_datagen=ImageDataGenerator(rescale=1.0/255)\n",
        "\n",
        "train_generator=train_datagen.flow_from_directory(\n",
        "                                         train_dir,\n",
        "                                         target_size=(100,100)\n",
        "                                         ,class_mode='categorical',\n",
        "                                         batch_size=128\n",
        ")\n",
        "test_datagen=ImageDataGenerator(rescale=1.0/255)\n",
        "test_generator=test_datagen.flow_from_directory(\n",
        "                                         test_dir,\n",
        "                                         target_size=(100,100)\n",
        "                                         ,class_mode='categorical',\n",
        "                                         batch_size=128\n",
        ")"
      ],
      "execution_count": 54,
      "outputs": [
        {
          "output_type": "stream",
          "name": "stdout",
          "text": [
            "Found 10939 images belonging to 15 classes.\n",
            "Found 2744 images belonging to 15 classes.\n"
          ]
        }
      ]
    },
    {
      "cell_type": "code",
      "metadata": {
        "id": "8XxUvsuefLtg"
      },
      "source": [
        "es=EarlyStopping(monitor='val_acc',patience=2,min_delta=0.01) #min_delta is 1% tbhi age jega otherwise stop"
      ],
      "execution_count": 55,
      "outputs": []
    },
    {
      "cell_type": "code",
      "metadata": {
        "colab": {
          "base_uri": "https://localhost:8080/"
        },
        "id": "MCvCT4fXd51I",
        "outputId": "da651d45-ffea-4ba5-ac48-0d2a43d22210"
      },
      "source": [
        "model.fit_generator(train_generator,\n",
        "                    epochs = 10,\n",
        "                    verbose = 1,\n",
        "                    validation_data = test_generator,\n",
        "                    callbacks = [es])"
      ],
      "execution_count": null,
      "outputs": [
        {
          "output_type": "stream",
          "name": "stderr",
          "text": [
            "/usr/local/lib/python3.7/dist-packages/keras/engine/training.py:1972: UserWarning: `Model.fit_generator` is deprecated and will be removed in a future version. Please use `Model.fit`, which supports generators.\n",
            "  warnings.warn('`Model.fit_generator` is deprecated and '\n"
          ]
        },
        {
          "output_type": "stream",
          "name": "stdout",
          "text": [
            "Epoch 1/10\n",
            "86/86 [==============================] - 19s 217ms/step - loss: 2.1339 - acc: 0.4669 - val_loss: 1.0363 - val_acc: 0.5463\n",
            "Epoch 2/10\n",
            "86/86 [==============================] - 18s 211ms/step - loss: 1.0849 - acc: 0.5350 - val_loss: 1.0420 - val_acc: 0.5044\n",
            "Epoch 3/10\n",
            "86/86 [==============================] - 18s 210ms/step - loss: 0.9835 - acc: 0.6023 - val_loss: 0.9515 - val_acc: 0.6119\n",
            "Epoch 4/10\n",
            " 1/86 [..............................] - ETA: 16s - loss: 0.8816 - acc: 0.6172"
          ]
        }
      ]
    },
    {
      "cell_type": "code",
      "metadata": {
        "id": "vVvIRkLrf5B1"
      },
      "source": [
        ""
      ],
      "execution_count": null,
      "outputs": []
    }
  ]
}